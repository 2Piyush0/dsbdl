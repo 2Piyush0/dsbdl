{
 "cells": [
  {
   "cell_type": "code",
   "execution_count": 1,
   "id": "4aec89b8",
   "metadata": {},
   "outputs": [],
   "source": [
    "import pandas as pd\n",
    "import numpy as np\n",
    "import seaborn as sns\n",
    "import matplotlib.pyplot as plt"
   ]
  },
  {
   "cell_type": "code",
   "execution_count": 2,
   "id": "3f93c863",
   "metadata": {},
   "outputs": [
    {
     "name": "stdout",
     "output_type": "stream",
     "text": [
      "   CustomerID   Genre  Age  Annual Income (k$)  Spending Score (1-100)\n",
      "0           1    Male   19                  15                      39\n",
      "1           2    Male   21                  15                      81\n",
      "2           3  Female   20                  16                       6\n",
      "3           4  Female   23                  16                      77\n",
      "4           5  Female   31                  17                      40\n"
     ]
    }
   ],
   "source": [
    "df=pd.read_csv(\"C:\\\\Users\\\\piyus\\\\OneDrive\\\\Desktop\\\\College Study\\\\DATA\\\\Lab\\\\Mall_Customers.csv\")\n",
    "print(df.head())"
   ]
  },
  {
   "cell_type": "code",
   "execution_count": 4,
   "id": "f4aa27a1",
   "metadata": {},
   "outputs": [
    {
     "name": "stdout",
     "output_type": "stream",
     "text": [
      "Mean of numeric columns: \n",
      " CustomerID                100.50\n",
      "Age                        38.85\n",
      "Annual Income (k$)         60.56\n",
      "Spending Score (1-100)     50.20\n",
      "dtype: float64\n",
      "Mean of age: \n",
      " 38.85\n"
     ]
    }
   ],
   "source": [
    "print('Mean of numeric columns: \\n',df.mean(numeric_only=True))\n",
    "print('Mean of age: \\n',df['Age'].mean())"
   ]
  },
  {
   "cell_type": "code",
   "execution_count": 5,
   "id": "0f047a0f",
   "metadata": {},
   "outputs": [
    {
     "name": "stdout",
     "output_type": "stream",
     "text": [
      "median  of numeric columns: \n",
      " CustomerID                100.5\n",
      "Age                        36.0\n",
      "Annual Income (k$)         61.5\n",
      "Spending Score (1-100)     50.0\n",
      "dtype: float64\n",
      "medina of age: \n",
      " 36.0\n"
     ]
    }
   ],
   "source": [
    "print('median  of numeric columns: \\n',df.median(numeric_only=True))\n",
    "print('medina of age: \\n',df['Age'].median())"
   ]
  },
  {
   "cell_type": "code",
   "execution_count": 6,
   "id": "04b7e5cf",
   "metadata": {},
   "outputs": [
    {
     "name": "stdout",
     "output_type": "stream",
     "text": [
      "mode of numeric columns: \n",
      "      CustomerID   Age  Annual Income (k$)  Spending Score (1-100)\n",
      "0             1  32.0                54.0                    42.0\n",
      "1             2   NaN                78.0                     NaN\n",
      "2             3   NaN                 NaN                     NaN\n",
      "3             4   NaN                 NaN                     NaN\n",
      "4             5   NaN                 NaN                     NaN\n",
      "..          ...   ...                 ...                     ...\n",
      "195         196   NaN                 NaN                     NaN\n",
      "196         197   NaN                 NaN                     NaN\n",
      "197         198   NaN                 NaN                     NaN\n",
      "198         199   NaN                 NaN                     NaN\n",
      "199         200   NaN                 NaN                     NaN\n",
      "\n",
      "[200 rows x 4 columns]\n",
      "mode of age: \n",
      " 0    32\n",
      "Name: Age, dtype: int64\n"
     ]
    }
   ],
   "source": [
    "print('mode of numeric columns: \\n',df.mode(numeric_only=True))\n",
    "print('mode of age: \\n',df['Age'].mode([0]))"
   ]
  },
  {
   "cell_type": "code",
   "execution_count": 7,
   "id": "90181c05",
   "metadata": {},
   "outputs": [
    {
     "name": "stdout",
     "output_type": "stream",
     "text": [
      "maximum age:  70\n",
      "minimum age:  18\n",
      "standard deviation of age:  13.969007331558883\n"
     ]
    }
   ],
   "source": [
    "print('maximum age: ',df['Age'].max())\n",
    "print('minimum age: ',df['Age'].min())\n",
    "print('standard deviation of age: ',df['Age'].std())"
   ]
  },
  {
   "cell_type": "code",
   "execution_count": 8,
   "id": "9c404792",
   "metadata": {},
   "outputs": [
    {
     "name": "stdout",
     "output_type": "stream",
     "text": [
      "mean age grouped by gender:  Genre\n",
      "Female    38.098214\n",
      "Male      39.806818\n",
      "Name: Age, dtype: float64\n"
     ]
    }
   ],
   "source": [
    "print('mean age grouped by gender: ',df.groupby('Genre')['Age'].mean())"
   ]
  },
  {
   "cell_type": "code",
   "execution_count": 9,
   "id": "bf9a97fc",
   "metadata": {},
   "outputs": [
    {
     "name": "stdout",
     "output_type": "stream",
     "text": [
      "summary  statistics of annual income grouped by age: \n",
      "      count        mean        std   min     25%    50%     75%    max\n",
      "Age                                                                  \n",
      "18     4.0   51.250000  14.056434  33.0   44.25   53.5   60.50   65.0\n",
      "19     8.0   57.000000  20.632845  15.0   47.50   63.5   67.25   81.0\n",
      "20     5.0   41.600000  24.815318  16.0   21.00   37.0   61.00   73.0\n",
      "21     5.0   38.800000  19.018412  15.0   30.00   33.0   54.00   62.0\n",
      "22     3.0   31.333333  22.278540  17.0   18.50   20.0   38.50   57.0\n",
      "23     6.0   41.500000  23.441416  16.0   20.75   41.5   60.00   70.0\n",
      "24     4.0   39.250000  16.357975  20.0   33.50   38.5   44.25   60.0\n",
      "25     3.0   57.666667  29.263174  24.0   48.00   72.0   74.50   77.0\n",
      "26     2.0   58.000000   5.656854  54.0   56.00   58.0   60.00   62.0\n",
      "27     6.0   63.166667  18.400181  40.0   49.50   63.5   75.25   88.0\n",
      "28     4.0   85.250000  11.615363  76.0   76.75   82.0   90.50  101.0\n",
      "29     5.0   63.600000  28.866936  28.0   40.00   73.0   79.00   98.0\n",
      "30     7.0   76.142857  39.612408  19.0   56.00   78.0   93.50  137.0\n",
      "31     8.0   48.375000  23.323425  17.0   35.50   41.5   70.50   81.0\n",
      "32    11.0   87.181818  26.809768  48.0   74.00   77.0  100.00  137.0\n",
      "33     3.0   80.333333  35.837597  42.0   64.00   86.0   99.50  113.0\n",
      "34     5.0   79.000000  15.968719  58.0   78.00   78.0   78.00  103.0\n",
      "35     9.0   46.666667  38.632888  18.0   21.00   24.0   74.00  120.0\n",
      "36     6.0   81.000000  22.556595  37.0   85.50   87.0   87.00  103.0\n",
      "37     3.0   65.000000  40.112342  20.0   49.00   78.0   87.50   97.0\n",
      "38     6.0   74.500000  20.462160  54.0   64.75   69.0   76.25  113.0\n",
      "39     3.0   72.666667   4.725816  69.0   70.00   71.0   74.50   78.0\n",
      "40     6.0   61.666667  19.551641  29.0   55.50   64.5   70.50   87.0\n",
      "41     2.0  101.000000   2.828427  99.0  100.00  101.0  102.00  103.0\n",
      "42     2.0   60.000000  36.769553  34.0   47.00   60.0   73.00   86.0\n",
      "43     3.0   65.666667  15.695010  48.0   59.50   71.0   74.50   78.0\n",
      "44     2.0   75.500000   3.535534  73.0   74.25   75.5   76.75   78.0\n",
      "45     3.0   69.333333  50.767444  28.0   41.00   54.0   90.00  126.0\n",
      "46     3.0   59.000000  36.755952  25.0   39.50   54.0   76.00   98.0\n",
      "47     6.0   70.166667  27.694163  43.0   51.75   65.5   76.25  120.0\n",
      "48     5.0   58.200000  13.700365  39.0   54.00   60.0   61.00   77.0\n",
      "49     7.0   51.000000  12.884099  33.0   40.50   54.0   62.00   65.0\n",
      "50     5.0   58.600000  18.420098  40.0   43.00   58.0   67.00   85.0\n",
      "51     2.0   55.500000  16.263456  44.0   49.75   55.5   61.25   67.0\n",
      "52     2.0   55.500000  45.961941  23.0   39.25   55.5   71.75   88.0\n",
      "53     2.0   39.500000   9.192388  33.0   36.25   39.5   42.75   46.0\n",
      "54     4.0   59.750000  30.998656  28.0   42.25   55.0   72.50  101.0\n",
      "55     1.0   57.000000        NaN  57.0   57.00   57.0   57.00   57.0\n",
      "56     1.0   79.000000        NaN  79.0   79.00   79.0   79.00   79.0\n",
      "57     2.0   64.500000  14.849242  54.0   59.25   64.5   69.75   75.0\n",
      "58     2.0   54.000000  48.083261  20.0   37.00   54.0   71.00   88.0\n",
      "59     4.0   65.250000  21.792583  43.0   51.25   62.5   76.50   93.0\n",
      "60     3.0   43.333333  11.547005  30.0   40.00   50.0   50.00   50.0\n",
      "63     2.0   56.500000  12.020815  48.0   52.25   56.5   60.75   65.0\n",
      "64     1.0   19.000000        NaN  19.0   19.00   19.0   19.00   19.0\n",
      "65     2.0   50.500000  17.677670  38.0   44.25   50.5   56.75   63.0\n",
      "66     2.0   63.000000   0.000000  63.0   63.00   63.0   63.00   63.0\n",
      "67     4.0   45.500000  18.699376  19.0   40.00   50.5   56.00   62.0\n",
      "68     3.0   56.666667   7.767453  48.0   53.50   59.0   61.00   63.0\n",
      "69     1.0   44.000000        NaN  44.0   44.00   44.0   44.00   44.0\n",
      "70     2.0   47.500000   2.121320  46.0   46.75   47.5   48.25   49.0\n"
     ]
    }
   ],
   "source": [
    "summary_stats=df.groupby('Age')['Annual Income (k$)'].describe()\n",
    "print('summary  statistics of annual income grouped by age: \\n',summary_stats)"
   ]
  },
  {
   "cell_type": "code",
   "execution_count": 10,
   "id": "ef2fa0fc",
   "metadata": {},
   "outputs": [
    {
     "name": "stdout",
     "output_type": "stream",
     "text": [
      "list of annual income by age:  Age\n",
      "18                                   [33, 48, 59, 65]\n",
      "19                   [15, 46, 48, 63, 64, 65, 74, 81]\n",
      "20                               [16, 21, 37, 61, 73]\n",
      "21                               [15, 30, 33, 54, 62]\n",
      "22                                       [17, 20, 57]\n",
      "23                           [16, 18, 29, 54, 62, 70]\n",
      "24                                   [20, 38, 39, 60]\n",
      "25                                       [24, 72, 77]\n",
      "26                                           [54, 62]\n",
      "27                           [40, 46, 60, 67, 78, 88]\n",
      "28                                  [76, 77, 87, 101]\n",
      "29                               [28, 40, 73, 79, 98]\n",
      "30                      [19, 34, 78, 78, 88, 99, 137]\n",
      "31                   [17, 25, 39, 40, 43, 70, 72, 81]\n",
      "32    [48, 60, 73, 75, 76, 77, 87, 97, 103, 126, 137]\n",
      "33                                      [42, 86, 113]\n",
      "34                              [58, 78, 78, 78, 103]\n",
      "35              [18, 19, 21, 23, 24, 28, 74, 93, 120]\n",
      "36                          [37, 85, 87, 87, 87, 103]\n",
      "37                                       [20, 78, 97]\n",
      "38                          [54, 64, 67, 71, 78, 113]\n",
      "39                                       [69, 71, 78]\n",
      "40                           [29, 54, 60, 69, 71, 87]\n",
      "41                                          [99, 103]\n",
      "42                                           [34, 86]\n",
      "43                                       [48, 71, 78]\n",
      "44                                           [73, 78]\n",
      "45                                      [28, 54, 126]\n",
      "46                                       [25, 54, 98]\n",
      "47                          [43, 49, 60, 71, 78, 120]\n",
      "48                               [39, 54, 60, 61, 77]\n",
      "49                       [33, 39, 42, 54, 62, 62, 65]\n",
      "50                               [40, 43, 58, 67, 85]\n",
      "51                                           [44, 67]\n",
      "52                                           [23, 88]\n",
      "53                                           [33, 46]\n",
      "54                                  [28, 47, 63, 101]\n",
      "55                                               [57]\n",
      "56                                               [79]\n",
      "57                                           [54, 75]\n",
      "58                                           [20, 88]\n",
      "59                                   [43, 54, 71, 93]\n",
      "60                                       [30, 50, 50]\n",
      "63                                           [48, 65]\n",
      "64                                               [19]\n",
      "65                                           [38, 63]\n",
      "66                                           [63, 63]\n",
      "67                                   [19, 47, 54, 62]\n",
      "68                                       [48, 59, 63]\n",
      "69                                               [44]\n",
      "70                                           [46, 49]\n",
      "Name: Annual Income (k$), dtype: object\n"
     ]
    }
   ],
   "source": [
    "income_list_by_age=df.groupby('Age')['Annual Income (k$)'].apply(list)\n",
    "print('list of annual income by age: ',income_list_by_age)"
   ]
  },
  {
   "cell_type": "code",
   "execution_count": 13,
   "id": "0196bd45",
   "metadata": {},
   "outputs": [
    {
     "name": "stdout",
     "output_type": "stream",
     "text": [
      "   sepal_length  sepal_width  petal_length  petal_width species\n",
      "0           5.1          3.5           1.4          0.2  setosa\n",
      "1           4.9          3.0           1.4          0.2  setosa\n",
      "2           4.7          3.2           1.3          0.2  setosa\n",
      "3           4.6          3.1           1.5          0.2  setosa\n",
      "4           5.0          3.6           1.4          0.2  setosa\n"
     ]
    }
   ],
   "source": [
    "iris_df=sns.load_dataset('iris')\n",
    "print(iris_df.head())"
   ]
  },
  {
   "cell_type": "code",
   "execution_count": 14,
   "id": "7e373c36",
   "metadata": {},
   "outputs": [],
   "source": [
    "setosa=iris_df[iris_df['species']=='setosa']\n",
    "versicolor=iris_df[iris_df['species']=='versicolor']\n",
    "virginica=iris_df[iris_df['species']=='virginica']"
   ]
  },
  {
   "cell_type": "code",
   "execution_count": 15,
   "id": "7ed3a1f6",
   "metadata": {},
   "outputs": [],
   "source": [
    "def calculate_stats(species_data):\n",
    "    stats={\n",
    "        'mean':species_data.mean(numeric_only=True),\n",
    "        'standard_deviation':species_data.std(numeric_only=True),\n",
    "        '25th_percentile':species_data.quantile(0.25,numeric_only=True),\n",
    "        '50th_percentile':species_data.quantile(0.50,numeric_only=True),\n",
    "        '75th_percentile':species_data.quantile(0.75,numeric_only=True),\n",
    "    }\n",
    "    return stats"
   ]
  },
  {
   "cell_type": "code",
   "execution_count": 17,
   "id": "f490246b",
   "metadata": {},
   "outputs": [],
   "source": [
    "setosa_stats=calculate_stats(setosa.drop(columns=['speices']))\n",
    "versicolor_stats=calculate_stats(versicolor.drop(columns=['species']))\n",
    "virginica_stats=calculate_stats(virginica.drop(columns=['species']))"
   ]
  },
  {
   "cell_type": "code",
   "execution_count": 18,
   "id": "6b0d2952",
   "metadata": {},
   "outputs": [
    {
     "name": "stdout",
     "output_type": "stream",
     "text": [
      "statistics of setosa: \n",
      " {'mean': sepal_length    5.006\n",
      "sepal_width     3.428\n",
      "petal_length    1.462\n",
      "petal_width     0.246\n",
      "dtype: float64, 'standard_deviation': sepal_length    0.352490\n",
      "sepal_width     0.379064\n",
      "petal_length    0.173664\n",
      "petal_width     0.105386\n",
      "dtype: float64, '25th_percentile': sepal_length    4.8\n",
      "sepal_width     3.2\n",
      "petal_length    1.4\n",
      "petal_width     0.2\n",
      "Name: 0.25, dtype: float64, '50th_percentile': sepal_length    5.0\n",
      "sepal_width     3.4\n",
      "petal_length    1.5\n",
      "petal_width     0.2\n",
      "Name: 0.5, dtype: float64, '75th_percentile': sepal_length    5.200\n",
      "sepal_width     3.675\n",
      "petal_length    1.575\n",
      "petal_width     0.300\n",
      "Name: 0.75, dtype: float64}\n",
      "statistics of versicolor: \n",
      " {'mean': sepal_length    5.936\n",
      "sepal_width     2.770\n",
      "petal_length    4.260\n",
      "petal_width     1.326\n",
      "dtype: float64, 'standard_deviation': sepal_length    0.516171\n",
      "sepal_width     0.313798\n",
      "petal_length    0.469911\n",
      "petal_width     0.197753\n",
      "dtype: float64, '25th_percentile': sepal_length    5.600\n",
      "sepal_width     2.525\n",
      "petal_length    4.000\n",
      "petal_width     1.200\n",
      "Name: 0.25, dtype: float64, '50th_percentile': sepal_length    5.90\n",
      "sepal_width     2.80\n",
      "petal_length    4.35\n",
      "petal_width     1.30\n",
      "Name: 0.5, dtype: float64, '75th_percentile': sepal_length    6.3\n",
      "sepal_width     3.0\n",
      "petal_length    4.6\n",
      "petal_width     1.5\n",
      "Name: 0.75, dtype: float64}\n",
      "statistics of virginica: \n",
      " {'mean': sepal_length    6.588\n",
      "sepal_width     2.974\n",
      "petal_length    5.552\n",
      "petal_width     2.026\n",
      "dtype: float64, 'standard_deviation': sepal_length    0.635880\n",
      "sepal_width     0.322497\n",
      "petal_length    0.551895\n",
      "petal_width     0.274650\n",
      "dtype: float64, '25th_percentile': sepal_length    6.225\n",
      "sepal_width     2.800\n",
      "petal_length    5.100\n",
      "petal_width     1.800\n",
      "Name: 0.25, dtype: float64, '50th_percentile': sepal_length    6.50\n",
      "sepal_width     3.00\n",
      "petal_length    5.55\n",
      "petal_width     2.00\n",
      "Name: 0.5, dtype: float64, '75th_percentile': sepal_length    6.900\n",
      "sepal_width     3.175\n",
      "petal_length    5.875\n",
      "petal_width     2.300\n",
      "Name: 0.75, dtype: float64}\n"
     ]
    }
   ],
   "source": [
    "print('statistics of setosa: \\n',setosa_stats)\n",
    "print('statistics of versicolor: \\n',versicolor_stats)\n",
    "print('statistics of virginica: \\n',virginica_stats)"
   ]
  },
  {
   "cell_type": "code",
   "execution_count": null,
   "id": "47ed9930",
   "metadata": {},
   "outputs": [],
   "source": []
  }
 ],
 "metadata": {
  "kernelspec": {
   "display_name": "Python 3 (ipykernel)",
   "language": "python",
   "name": "python3"
  },
  "language_info": {
   "codemirror_mode": {
    "name": "ipython",
    "version": 3
   },
   "file_extension": ".py",
   "mimetype": "text/x-python",
   "name": "python",
   "nbconvert_exporter": "python",
   "pygments_lexer": "ipython3",
   "version": "3.10.9"
  }
 },
 "nbformat": 4,
 "nbformat_minor": 5
}
